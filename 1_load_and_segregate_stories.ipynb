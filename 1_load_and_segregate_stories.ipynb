{
 "metadata": {
  "language_info": {
   "codemirror_mode": {
    "name": "ipython",
    "version": 3
   },
   "file_extension": ".py",
   "mimetype": "text/x-python",
   "name": "python",
   "nbconvert_exporter": "python",
   "pygments_lexer": "ipython3",
   "version": "3.8.5-final"
  },
  "orig_nbformat": 2,
  "kernelspec": {
   "name": "python3",
   "display_name": "Python 3"
  }
 },
 "nbformat": 4,
 "nbformat_minor": 2,
 "cells": [
  {
   "cell_type": "code",
   "execution_count": 15,
   "metadata": {
    "tags": []
   },
   "outputs": [
    {
     "output_type": "stream",
     "name": "stdout",
     "text": [
      "92579\n"
     ]
    }
   ],
   "source": [
    "import os\n",
    "import pickle\n",
    "\n",
    "master_list = []\n",
    "story_path = os.path.join(os.getcwd(), \"stories\")\n",
    "for story_file_name in os.listdir(story_path):\n",
    "    with open(os.path.join(story_path, story_file_name)) as story:\n",
    "        highlights = []\n",
    "        story_body = []\n",
    "        story_iterator = iter(story)\n",
    "        while True:\n",
    "            try:                \n",
    "                line = next(story_iterator).strip()               \n",
    "                if line != \"@highlight\":\n",
    "                    story_body.append(line)\n",
    "                else:                    \n",
    "                    _ = next(story_iterator) # consume blank line\n",
    "                    highlight = next(story_iterator).strip()\n",
    "                    highlights.append(highlight)\n",
    "            except StopIteration:\n",
    "                master_list.append({'story_id': story_file_name, 'story':\"\\n\".join(story_body), 'highlights':highlights})\n",
    "                # if StopIteration is raised, break from loop\n",
    "                break\n",
    "\n",
    "print(len(master_list))\n",
    "\n",
    "# pickle processed data\n",
    "with open(\"processed_stories.pkl\", \"wb\") as processed_pickle_file:\n",
    "    pickle.dump(master_list, processed_pickle_file)\n",
    "\n"
   ]
  }
 ]
}